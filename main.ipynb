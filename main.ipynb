{
 "cells": [
  {
   "cell_type": "code",
   "execution_count": 1,
   "metadata": {},
   "outputs": [],
   "source": [
    "import numpy as np\n",
    "#import matplotlib.pyplot as plt\n",
    "from sklearn.model_selection import train_test_split\n",
    "from sklearn.preprocessing import MinMaxScaler\n",
    "import pandas as pd\n",
    "from sklearn.svm import SVR\n",
    "from sklearn import metrics\n",
    "from sklearn import linear_model\n",
    "from sklearn.tree import DecisionTreeRegressor\n",
    "from sklearn.ensemble import RandomForestRegressor\n",
    "from sklearn.linear_model import LogisticRegression\n",
    "import pickle\n",
    "import logging\n",
    "logging.basicConfig(filename=\"credit_log.log\", level=logging.INFO, format=\"%(asctime)s %(levelname)s %(message)s\")"
   ]
  },
  {
   "cell_type": "code",
   "execution_count": 5,
   "metadata": {},
   "outputs": [],
   "source": [
    "def train_data():\n",
    "    try:\n",
    "        default = pd.read_csv('creditCardFraud.csv')\n",
    "        default.rename(columns=lambda x: x.lower(), inplace=True)\n",
    "        logging.info(\"data imported\")\n",
    "    except Exception as e:\n",
    "        logging.error(e)"
   ]
  },
  {
   "cell_type": "code",
   "execution_count": 6,
   "metadata": {},
   "outputs": [],
   "source": [
    "\n",
    "def train_data():\n",
    "    try:\n",
    "        # Base values: female, other_education, not_married\n",
    "        default['grad_school'] = (default['education'] == 1).astype('int')\n",
    "        default['university'] = (default['education'] == 2).astype('int')\n",
    "        default['high_school'] = (default['education'] == 3).astype('int')\n",
    "        default.drop('education', axis=1, inplace=True)\n",
    "\n",
    "        default['male'] = (default['sex'] == 1).astype('int')\n",
    "        default.drop('sex', axis=1, inplace=True)\n",
    "\n",
    "        default['married'] = (default['marriage'] == 1).astype('int')\n",
    "        default.drop('marriage', axis=1, inplace=True)\n",
    "        logging.info(\"base valuses are changed\")\n",
    "    except Exception as e:\n",
    "        logging.error(e)"
   ]
  }
 ],
 "metadata": {
  "kernelspec": {
   "display_name": "Python 3",
   "language": "python",
   "name": "python3"
  },
  "language_info": {
   "codemirror_mode": {
    "name": "ipython",
    "version": 3
   },
   "file_extension": ".py",
   "mimetype": "text/x-python",
   "name": "python",
   "nbconvert_exporter": "python",
   "pygments_lexer": "ipython3",
   "version": "3.9.0"
  }
 },
 "nbformat": 4,
 "nbformat_minor": 2
}
